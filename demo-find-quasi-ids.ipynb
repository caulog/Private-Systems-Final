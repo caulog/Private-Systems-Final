{
 "cells": [
  {
   "cell_type": "markdown",
   "id": "55cfe5dd-20ba-4047-beff-3e1e69cb0765",
   "metadata": {},
   "source": [
    "# `find-quasi-ids`- Demo Jupyter Notebook\n",
    "\n",
    "This Jupyter notebook walks through a demo of using `find-quasi-ids` as a CLI tool with the NY TAP dataset. \n",
    "\n",
    "\n",
    "**NOTE:** the `!` character at the beginning of a cell (in a code cell) indicates that the following command should be executed in the system's shell (like Bash) rather than in the Python interpreter. This allows you to run external shell commands directly from your Jupyter notebook."
   ]
  },
  {
   "cell_type": "markdown",
   "id": "98e30bab-b3c9-4a32-bf62-ab68dcecdb73",
   "metadata": {},
   "source": [
    "## Usage Message"
   ]
  },
  {
   "cell_type": "markdown",
   "id": "8154fa20-3dee-4875-8afa-817cbdb8fd71",
   "metadata": {},
   "source": [
    "## Brute-force Algorithm"
   ]
  },
  {
   "cell_type": "code",
   "execution_count": 5,
   "id": "9214d10b-eed8-4cdd-9a4e-1d5b6ae1789b",
   "metadata": {},
   "outputs": [
    {
     "name": "stdout",
     "output_type": "stream",
     "text": [
      "usage: find-quasi-ids [-h] -f INPUT_FILE [--out-dir OUT_DIR]\n",
      "                      {brute,greedy} ...\n",
      "\n",
      "options:\n",
      "  -h, --help            show this help message and exit\n",
      "  -f INPUT_FILE, --input-file INPUT_FILE\n",
      "                        Path to input CSV datafile\n",
      "  --out-dir OUT_DIR     Path to output directory where to write the output CSV\n",
      "                        file(s).\n",
      "\n",
      "algorithms:\n",
      "  Algorithm to use. Each has its own options.\n",
      "\n",
      "  {brute,greedy}\n",
      "    brute               Run the brute-force algorithm.\n",
      "    greedy              Run the greedy algorithm.\n"
     ]
    }
   ],
   "source": [
    "!find-quasi-ids -h"
   ]
  },
  {
   "cell_type": "code",
   "execution_count": 6,
   "id": "a666911a-8fcd-4277-94f5-828d717472a4",
   "metadata": {},
   "outputs": [
    {
     "name": "stdout",
     "output_type": "stream",
     "text": [
      "usage: find-quasi-ids brute [-h] [--num-cols-start NUM_COLS_START]\n",
      "                            [--num-cols-max NUM_COLS_MAX] [--top-k TOP_K]\n",
      "\n",
      "options:\n",
      "  -h, --help            show this help message and exit\n",
      "  --num-cols-start NUM_COLS_START\n",
      "                        Number of columns to start running the brute force\n",
      "                        algorithm.\n",
      "  --num-cols-max NUM_COLS_MAX\n",
      "                        Max number of cols to use to run the brute force\n",
      "                        algorithm.\n",
      "  --top-k TOP_K         Output top-k combination of columns with highest\n",
      "                        distinct ratio for the brute force algorithm.\n"
     ]
    }
   ],
   "source": [
    "!find-quasi-ids brute -h"
   ]
  },
  {
   "cell_type": "code",
   "execution_count": 18,
   "id": "28376b56-c5df-42b3-a305-116972be660f",
   "metadata": {},
   "outputs": [
    {
     "name": "stdout",
     "output_type": "stream",
     "text": [
      "\n",
      "Top 5 combinations of size 3 by distinct ratio:\n",
      "\n",
      "Academic Year, Income by $1,000 Range, TAP Recipient Dollars: distinct_ratio=0.6457, unique_combinations=52306\n",
      "TAP Sector Group, Income by $1,000 Range, TAP Recipient Dollars: distinct_ratio=0.6012, unique_combinations=48706\n",
      "Recipient Age Group, Income by $1,000 Range, TAP Recipient Dollars: distinct_ratio=0.5956, unique_combinations=48249\n",
      "Academic Year, Recipient Age Group, TAP Recipient Dollars: distinct_ratio=0.5672, unique_combinations=45945\n",
      "Academic Year, TAP Sector Group, TAP Recipient Dollars: distinct_ratio=0.5669, unique_combinations=45922\n",
      "Saved to output/brute_force_distinct_ratio_k3.csv\n",
      "\n",
      "Top 5 combinations of size 4 by distinct ratio:\n",
      "\n",
      "Academic Year, TAP Sector Group, Income by $1,000 Range, TAP Recipient Dollars: distinct_ratio=0.8045, unique_combinations=65176\n",
      "Academic Year, Recipient Age Group, Income by $1,000 Range, TAP Recipient Dollars: distinct_ratio=0.7829, unique_combinations=63419\n",
      "TAP Sector Group, Recipient Age Group, Income by $1,000 Range, TAP Recipient Dollars: distinct_ratio=0.7128, unique_combinations=57740\n",
      "Academic Year, TAP Level of Study, Income by $1,000 Range, TAP Recipient Dollars: distinct_ratio=0.7116, unique_combinations=57649\n",
      "Academic Year, TAP Schedule Letter, Income by $1,000 Range, TAP Recipient Dollars: distinct_ratio=0.6966, unique_combinations=56428\n",
      "Saved to output/brute_force_distinct_ratio_k4.csv\n",
      "Took 9.753 seconds\n"
     ]
    }
   ],
   "source": [
    "!find-quasi-ids --input-file data/TAP_PRUNED.csv --out-dir output \\\n",
    "    brute --num-cols-start 3 --num-cols-max 4 --top-k 5"
   ]
  },
  {
   "cell_type": "markdown",
   "id": "29496c81-dfb4-4161-8e3e-0564b51abbad",
   "metadata": {},
   "source": [
    "## Greedy (eps, delta) Minimum Key Algorithm"
   ]
  },
  {
   "cell_type": "code",
   "execution_count": 11,
   "id": "fdaec4e5-03cd-4f78-9606-7d24fe784f4a",
   "metadata": {},
   "outputs": [
    {
     "name": "stdout",
     "output_type": "stream",
     "text": [
      "usage: find-quasi-ids greedy [-h] [--sample]\n",
      "                             [--distinct-ratio-target DISTINCT_RATIO_TARGET]\n",
      "\n",
      "options:\n",
      "  -h, --help            show this help message and exit\n",
      "  --sample              If provided input data will be sampled, before running\n",
      "                        the greedy algorithm.\n",
      "  --distinct-ratio-target DISTINCT_RATIO_TARGET\n",
      "                        If provided the greedy algorithm will run until it\n",
      "                        just achieves a higher distinct ratio percentage. If\n",
      "                        not provided greedy algorithm will run fully. Expected\n",
      "                        value 0-100.\n"
     ]
    }
   ],
   "source": [
    "!find-quasi-ids greedy -h"
   ]
  },
  {
   "cell_type": "code",
   "execution_count": 19,
   "id": "f8df5691-9f72-44b9-b6f4-dff795461b1c",
   "metadata": {},
   "outputs": [
    {
     "name": "stdout",
     "output_type": "stream",
     "text": [
      "['Income by $1,000 Range', 'Academic Year', 'TAP Recipient Dollars', 'TAP Sector Group', 'Recipient Age Group', 'TAP Level of Study', 'TAP Financial Status', 'TAP Schedule Letter']: distinct_ratio=1.0, unique_combinations=4456\n",
      "Took 2.294 seconds\n"
     ]
    }
   ],
   "source": [
    "!find-quasi-ids --input-file data/TAP_PRUNED.csv --out-dir output \\\n",
    "    greedy --sample"
   ]
  },
  {
   "cell_type": "code",
   "execution_count": 26,
   "id": "39920edb-0ab1-4081-a15d-c521780edfa8",
   "metadata": {},
   "outputs": [
    {
     "name": "stdout",
     "output_type": "stream",
     "text": [
      "['Income by $1,000 Range', 'Academic Year', 'TAP Recipient Dollars']: distinct_ratio=0.9124775583482945, unique_combinations=4066\n",
      "Took 1.998 seconds\n"
     ]
    }
   ],
   "source": [
    "!find-quasi-ids --input-file data/TAP_PRUNED.csv --out-dir output \\\n",
    "    greedy --sample --distinct-ratio-target 90"
   ]
  },
  {
   "cell_type": "markdown",
   "id": "13e30efd-7d12-4b14-9e0d-69d238dfa284",
   "metadata": {},
   "source": [
    "### Full Greedy Minimum Key Algorithm\n",
    "\n",
    "⚠️⚠️⚠️ Running the full greedy min key algorithm takes a long time. Uncomment the next cell to run ⚠️⚠️⚠️"
   ]
  },
  {
   "cell_type": "code",
   "execution_count": 38,
   "id": "446f7e22-5a5b-4ffe-a0e8-11a61d9988a6",
   "metadata": {},
   "outputs": [
    {
     "name": "stdout",
     "output_type": "stream",
     "text": [
      "['Income by $1,000 Range', 'Academic Year', 'TAP Recipient Dollars', 'TAP Sector Group', 'Recipient Age Group', 'TAP Schedule Letter', 'TAP Level of Study', 'TAP Financial Status', 'Level', 'Sector Type', 'TAP Award Schedule', 'TAP Degree or NonDegree', 'TAP Recipient FTEs']: distinct_ratio=0.9958523639056907, unique_combinations=80674\n",
      "Took 200.376 seconds\n"
     ]
    }
   ],
   "source": [
    "!find-quasi-ids --input-file data/TAP_PRUNED.csv --out-dir output \\\n",
    "    greedy"
   ]
  },
  {
   "cell_type": "markdown",
   "id": "65438063-5c2a-4723-865e-c52c2886dbf0",
   "metadata": {},
   "source": [
    "## Results\n",
    "\n",
    "Running one of the algorithms in `find-quasi-ids` writes out a list of column combinations with their distinct ratio and unique number of rows in the input dataset.\n",
    "\n",
    "## Using the results\n",
    "\n",
    "We can then use these column combinations to identify a unique individual in the dataset through querying.\n",
    "\n",
    "Define the high-risk pseudo-identifier combination based on the output of `find-quasi-ids`."
   ]
  },
  {
   "cell_type": "code",
   "execution_count": 29,
   "id": "db7ef8a8-58df-43be-8f61-fee259e4eb18",
   "metadata": {},
   "outputs": [],
   "source": [
    "risky_combo = ['Income by $1,000 Range', 'Academic Year', 'TAP Recipient Dollars']"
   ]
  },
  {
   "cell_type": "markdown",
   "id": "53591c3f-9e7b-4d2e-84e6-32b1f0020557",
   "metadata": {},
   "source": [
    "We can then find the most common values for these columns in the dataset with the next cell."
   ]
  },
  {
   "cell_type": "code",
   "execution_count": 30,
   "id": "e718727b-0102-4e0c-aec4-82de6952b77b",
   "metadata": {},
   "outputs": [
    {
     "name": "stdout",
     "output_type": "stream",
     "text": [
      "\n",
      "At-Risk Group Summary\n",
      "Total re-identifiable individuals (group size = 1): 46194\n",
      "\n",
      "Top 5 Income Brackets:\n",
      "Income by $1,000 Range\n",
      "$ 7,001 to $ 8,000    1709\n",
      "$ 8,001 to $ 9,000    1668\n",
      "$ 9,001 to $10,000    1520\n",
      "$13,001 to $14,000    1173\n",
      "$11,001 to $12,000    1162 \n",
      "\n",
      "Top 5 TAP Award Amounts:\n",
      "TAP Recipient Dollars\n",
      "750.00    309\n",
      "166.67    244\n",
      "125.00    236\n",
      "333.34    205\n",
      "500.01    199 \n",
      "\n",
      "Top 5 Academic Years:\n",
      "Academic Year\n",
      "2001    2553\n",
      "2003    2549\n",
      "2000    2508\n",
      "2002    2480\n",
      "2004    2140 \n",
      "\n"
     ]
    }
   ],
   "source": [
    "import pandas as pd\n",
    "\n",
    "df = pd.read_csv(\"data/TAP_PRUNED.csv\")\n",
    "\n",
    "# Calculate group size for each row\n",
    "df['group_size'] = df.groupby(risky_combo)[risky_combo[0]].transform('count')\n",
    "\n",
    "# Filter to find individuals in groups of size 1 (fully re-identifiable)\n",
    "at_risk = df[df['group_size'] == 1]\n",
    "\n",
    "# Summarize the most common attributes among at-risk individuals\n",
    "top_income = at_risk['Income by $1,000 Range'].value_counts().head(5)\n",
    "top_awards = at_risk['TAP Recipient Dollars'].value_counts().head(5)\n",
    "top_years = at_risk['Academic Year'].value_counts().head(5)\n",
    "\n",
    "# Show a few re-identifiable combinations\n",
    "unique_examples = at_risk[risky_combo].value_counts().reset_index().head(10)\n",
    "unique_examples.columns = risky_combo + ['count']\n",
    "\n",
    "# Print the analysis\n",
    "print(\"\\nAt-Risk Group Summary\")\n",
    "print(f\"Total re-identifiable individuals (group size = 1): {len(at_risk)}\\n\")\n",
    "\n",
    "print(\"Top 5 Income Brackets:\")\n",
    "print(top_income.to_string(), \"\\n\")\n",
    "\n",
    "print(\"Top 5 TAP Award Amounts:\")\n",
    "print(top_awards.to_string(), \"\\n\")\n",
    "\n",
    "print(\"Top 5 Academic Years:\")\n",
    "print(top_years.to_string(), \"\\n\")"
   ]
  },
  {
   "cell_type": "markdown",
   "id": "e1abfc77-1696-4f95-88ef-a6d9a790f84d",
   "metadata": {},
   "source": [
    "With these values and a little tinkering we can find unique individuals like the following"
   ]
  },
  {
   "cell_type": "code",
   "execution_count": 37,
   "id": "00a2f5c9-f0a1-4d63-b743-ababbae78ae8",
   "metadata": {},
   "outputs": [
    {
     "data": {
      "text/html": [
       "<div>\n",
       "<style scoped>\n",
       "    .dataframe tbody tr th:only-of-type {\n",
       "        vertical-align: middle;\n",
       "    }\n",
       "\n",
       "    .dataframe tbody tr th {\n",
       "        vertical-align: top;\n",
       "    }\n",
       "\n",
       "    .dataframe thead th {\n",
       "        text-align: right;\n",
       "    }\n",
       "</style>\n",
       "<table border=\"1\" class=\"dataframe\">\n",
       "  <thead>\n",
       "    <tr style=\"text-align: right;\">\n",
       "      <th></th>\n",
       "      <th>Academic Year</th>\n",
       "      <th>Level</th>\n",
       "      <th>TAP Level of Study</th>\n",
       "      <th>Sector Type</th>\n",
       "      <th>TAP Sector Group</th>\n",
       "      <th>Recipient Age Group</th>\n",
       "      <th>TAP Financial Status</th>\n",
       "      <th>TAP Award Schedule</th>\n",
       "      <th>TAP Degree or NonDegree</th>\n",
       "      <th>TAP Schedule Letter</th>\n",
       "      <th>Income by $1,000 Range</th>\n",
       "      <th>TAP Recipient FTEs</th>\n",
       "      <th>TAP Recipient Dollars</th>\n",
       "      <th>group_size</th>\n",
       "    </tr>\n",
       "  </thead>\n",
       "  <tbody>\n",
       "    <tr>\n",
       "      <th>71646</th>\n",
       "      <td>2001</td>\n",
       "      <td>U</td>\n",
       "      <td>2 yr Undergrad</td>\n",
       "      <td>PUBLIC</td>\n",
       "      <td>1-CUNY SR</td>\n",
       "      <td>over age 50</td>\n",
       "      <td>Financial_Independent</td>\n",
       "      <td>Independent_Schedule</td>\n",
       "      <td>Degree</td>\n",
       "      <td>K</td>\n",
       "      <td>$ 6,001 to $ 7,000</td>\n",
       "      <td>0.5</td>\n",
       "      <td>750.0</td>\n",
       "      <td>1</td>\n",
       "    </tr>\n",
       "  </tbody>\n",
       "</table>\n",
       "</div>"
      ],
      "text/plain": [
       "       Academic Year Level TAP Level of Study Sector Type TAP Sector Group  \\\n",
       "71646           2001     U     2 yr Undergrad      PUBLIC        1-CUNY SR   \n",
       "\n",
       "      Recipient Age Group   TAP Financial Status    TAP Award Schedule  \\\n",
       "71646         over age 50  Financial_Independent  Independent_Schedule   \n",
       "\n",
       "      TAP Degree or NonDegree TAP Schedule Letter Income by $1,000 Range  \\\n",
       "71646                  Degree                   K     $ 6,001 to $ 7,000   \n",
       "\n",
       "       TAP Recipient FTEs  TAP Recipient Dollars  group_size  \n",
       "71646                 0.5                  750.0           1  "
      ]
     },
     "execution_count": 37,
     "metadata": {},
     "output_type": "execute_result"
    }
   ],
   "source": [
    "filtered_df = df.loc[\n",
    "    (df['Academic Year'] == 2001) &\n",
    "    (df['Income by $1,000 Range'] == '$ 6,001 to $ 7,000') &\n",
    "    (df['TAP Recipient Dollars'] == 750)\n",
    "]\n",
    "filtered_df"
   ]
  },
  {
   "cell_type": "code",
   "execution_count": null,
   "id": "2ea05a29-73eb-4146-959b-bdd2c0447549",
   "metadata": {},
   "outputs": [],
   "source": []
  },
  {
   "cell_type": "code",
   "execution_count": null,
   "id": "a3e1e33e-0a8f-45ff-82af-0c03190f8ee5",
   "metadata": {},
   "outputs": [],
   "source": []
  }
 ],
 "metadata": {
  "kernelspec": {
   "display_name": "Python 3 (ipykernel)",
   "language": "python",
   "name": "python3"
  },
  "language_info": {
   "codemirror_mode": {
    "name": "ipython",
    "version": 3
   },
   "file_extension": ".py",
   "mimetype": "text/x-python",
   "name": "python",
   "nbconvert_exporter": "python",
   "pygments_lexer": "ipython3",
   "version": "3.12.8"
  }
 },
 "nbformat": 4,
 "nbformat_minor": 5
}
